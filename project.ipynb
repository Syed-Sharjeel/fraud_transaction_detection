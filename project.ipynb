{
 "cells": [
  {
   "cell_type": "markdown",
   "metadata": {},
   "source": [
    "## Importing Necessary Libraries"
   ]
  },
  {
   "cell_type": "code",
   "execution_count": 1,
   "metadata": {},
   "outputs": [],
   "source": [
    "import numpy as np\n",
    "import pandas as pd\n",
    "from sklearn.model_selection import train_test_split\n",
    "from sklearn.linear_model import LogisticRegression\n",
    "from sklearn.metrics import mean_squared_error\n",
    "from sklearn.preprocessing import LabelEncoder\n",
    "import matplotlib.pyplot as plt\n",
    "import seaborn as sns"
   ]
  },
  {
   "cell_type": "markdown",
   "metadata": {},
   "source": [
    "## Data Loading"
   ]
  },
  {
   "cell_type": "code",
   "execution_count": 2,
   "metadata": {},
   "outputs": [],
   "source": [
    "data = pd.read_csv(r'synthetic_fraud_dataset.csv')"
   ]
  },
  {
   "cell_type": "markdown",
   "metadata": {},
   "source": [
    "## Data Preprocessing"
   ]
  },
  {
   "cell_type": "code",
   "execution_count": 3,
   "metadata": {},
   "outputs": [
    {
     "name": "stdout",
     "output_type": "stream",
     "text": [
      "<class 'pandas.core.frame.DataFrame'>\n",
      "RangeIndex: 50000 entries, 0 to 49999\n",
      "Data columns (total 21 columns):\n",
      " #   Column                        Non-Null Count  Dtype  \n",
      "---  ------                        --------------  -----  \n",
      " 0   Transaction_ID                50000 non-null  object \n",
      " 1   User_ID                       50000 non-null  object \n",
      " 2   Transaction_Amount            50000 non-null  float64\n",
      " 3   Transaction_Type              50000 non-null  object \n",
      " 4   Timestamp                     50000 non-null  object \n",
      " 5   Account_Balance               50000 non-null  float64\n",
      " 6   Device_Type                   50000 non-null  object \n",
      " 7   Location                      50000 non-null  object \n",
      " 8   Merchant_Category             50000 non-null  object \n",
      " 9   IP_Address_Flag               50000 non-null  int64  \n",
      " 10  Previous_Fraudulent_Activity  50000 non-null  int64  \n",
      " 11  Daily_Transaction_Count       50000 non-null  int64  \n",
      " 12  Avg_Transaction_Amount_7d     50000 non-null  float64\n",
      " 13  Failed_Transaction_Count_7d   50000 non-null  int64  \n",
      " 14  Card_Type                     50000 non-null  object \n",
      " 15  Card_Age                      50000 non-null  int64  \n",
      " 16  Transaction_Distance          50000 non-null  float64\n",
      " 17  Authentication_Method         50000 non-null  object \n",
      " 18  Risk_Score                    50000 non-null  float64\n",
      " 19  Is_Weekend                    50000 non-null  int64  \n",
      " 20  Fraud_Label                   50000 non-null  int64  \n",
      "dtypes: float64(5), int64(7), object(9)\n",
      "memory usage: 8.0+ MB\n"
     ]
    }
   ],
   "source": [
    "data.info()"
   ]
  },
  {
   "cell_type": "code",
   "execution_count": 4,
   "metadata": {},
   "outputs": [
    {
     "name": "stdout",
     "output_type": "stream",
     "text": [
      "Authentication_Method:  ['Biometric' 'Password' 'OTP' 'PIN']\n",
      "Device_Type:  ['Laptop' 'Mobile' 'Tablet']\n",
      "Transaction_Type:  ['POS' 'Bank Transfer' 'Online' 'ATM Withdrawal']\n",
      "Location:  ['Sydney' 'New York' 'Mumbai' 'Tokyo' 'London']\n"
     ]
    }
   ],
   "source": [
    "print(\"Authentication_Method: \", data['Authentication_Method'].unique())\n",
    "print('Device_Type: ', data['Device_Type'].unique())\n",
    "print('Transaction_Type: ', data['Transaction_Type'].unique())\n",
    "print('Location: ', data['Location'].unique())"
   ]
  },
  {
   "cell_type": "code",
   "execution_count": 5,
   "metadata": {},
   "outputs": [
    {
     "name": "stdout",
     "output_type": "stream",
     "text": [
      "Mumbai: 3156\n",
      "Sydney: 3194\n",
      "Tokyo: 3315\n",
      "London: 3181\n",
      "New York: 3221\n"
     ]
    }
   ],
   "source": [
    "# Calculating Fraud Counts in each city for Data Visualization before encoding\n",
    "cities = ['Mumbai', 'Sydney', 'Tokyo', 'London', 'New York']\n",
    "for city in cities:\n",
    "    fraud_city_count = data[(data['Location'] == city) & (data['Fraud_Label'] == 1)].shape[0]\n",
    "    print(f\"{city}: {fraud_city_count}\")"
   ]
  },
  {
   "cell_type": "code",
   "execution_count": 6,
   "metadata": {},
   "outputs": [
    {
     "name": "stdout",
     "output_type": "stream",
     "text": [
      "POS: 3995\n",
      "Bank Transfer: 3995\n",
      "Online: 4031\n",
      "ATM Withdrawal: 4046\n"
     ]
    }
   ],
   "source": [
    "# Calculating Fraud Transactions for Transaction Type for Visualization before encoding\n",
    "tr_types = ['POS', 'Bank Transfer', 'Online', 'ATM Withdrawal']\n",
    "for tr_type in tr_types:\n",
    "    print(f\"{tr_type}: {data[(data['Transaction_Type'] == tr_type) & (data['Fraud_Label'] == 1)].shape[0]}\")"
   ]
  },
  {
   "cell_type": "code",
   "execution_count": 7,
   "metadata": {},
   "outputs": [
    {
     "name": "stdout",
     "output_type": "stream",
     "text": [
      "Biometric: 4038\n",
      "Password: 4030\n",
      "OTP: 4021\n",
      "PIN: 3978\n"
     ]
    }
   ],
   "source": [
    "# Calculating Fraud Transactions for Authentication Methods for Visualization before encoding\n",
    "auth_mehtods = ['Biometric', 'Password', 'OTP', 'PIN']\n",
    "for method in auth_mehtods:\n",
    "    print(f\"{method}: {data[(data['Authentication_Method'] == method) & (data['Fraud_Label'] == 1)].shape[0]}\")"
   ]
  },
  {
   "cell_type": "code",
   "execution_count": 8,
   "metadata": {},
   "outputs": [],
   "source": [
    "# One Hot Encoding on Authentication_Method, Device_Type, Transaction_Type\n",
    "data = pd.get_dummies(data, columns=['Authentication_Method', 'Device_Type', 'Transaction_Type'])"
   ]
  },
  {
   "cell_type": "code",
   "execution_count": 9,
   "metadata": {},
   "outputs": [
    {
     "data": {
      "text/plain": [
       "Index(['Transaction_ID', 'User_ID', 'Transaction_Amount', 'Timestamp',\n",
       "       'Account_Balance', 'Location', 'Merchant_Category', 'IP_Address_Flag',\n",
       "       'Previous_Fraudulent_Activity', 'Daily_Transaction_Count',\n",
       "       'Avg_Transaction_Amount_7d', 'Failed_Transaction_Count_7d', 'Card_Type',\n",
       "       'Card_Age', 'Transaction_Distance', 'Risk_Score', 'Is_Weekend',\n",
       "       'Fraud_Label', 'Authentication_Method_Biometric',\n",
       "       'Authentication_Method_OTP', 'Authentication_Method_PIN',\n",
       "       'Authentication_Method_Password', 'Device_Type_Laptop',\n",
       "       'Device_Type_Mobile', 'Device_Type_Tablet',\n",
       "       'Transaction_Type_ATM Withdrawal', 'Transaction_Type_Bank Transfer',\n",
       "       'Transaction_Type_Online', 'Transaction_Type_POS'],\n",
       "      dtype='object')"
      ]
     },
     "execution_count": 9,
     "metadata": {},
     "output_type": "execute_result"
    }
   ],
   "source": [
    "data.columns"
   ]
  },
  {
   "cell_type": "code",
   "execution_count": 10,
   "metadata": {},
   "outputs": [],
   "source": [
    "# Label Encoding on Location\n",
    "label_encoder = LabelEncoder()\n",
    "data['Location'] = label_encoder.fit_transform(data['Location'])"
   ]
  },
  {
   "cell_type": "markdown",
   "metadata": {},
   "source": [
    "## Machine Learning Process"
   ]
  },
  {
   "cell_type": "code",
   "execution_count": 11,
   "metadata": {},
   "outputs": [],
   "source": [
    "# Separate Feature and Target Variable\n",
    "X = data.drop(['Fraud_Label', 'Transaction_ID', 'User_ID', 'Timestamp', 'IP_Address_Flag', 'Card_Type', 'Card_Age', 'Is_Weekend', 'Merchant_Category'], axis=1)\n",
    "y = data['Fraud_Label']"
   ]
  },
  {
   "cell_type": "code",
   "execution_count": 12,
   "metadata": {},
   "outputs": [],
   "source": [
    "# Splitting Data into Training and Testing\n",
    "X_train, X_test, y_train, y_test = train_test_split(X, y, test_size=0.2, random_state=42)"
   ]
  },
  {
   "cell_type": "code",
   "execution_count": 13,
   "metadata": {},
   "outputs": [
    {
     "data": {
      "text/html": [
       "<style>#sk-container-id-1 {\n",
       "  /* Definition of color scheme common for light and dark mode */\n",
       "  --sklearn-color-text: black;\n",
       "  --sklearn-color-line: gray;\n",
       "  /* Definition of color scheme for unfitted estimators */\n",
       "  --sklearn-color-unfitted-level-0: #fff5e6;\n",
       "  --sklearn-color-unfitted-level-1: #f6e4d2;\n",
       "  --sklearn-color-unfitted-level-2: #ffe0b3;\n",
       "  --sklearn-color-unfitted-level-3: chocolate;\n",
       "  /* Definition of color scheme for fitted estimators */\n",
       "  --sklearn-color-fitted-level-0: #f0f8ff;\n",
       "  --sklearn-color-fitted-level-1: #d4ebff;\n",
       "  --sklearn-color-fitted-level-2: #b3dbfd;\n",
       "  --sklearn-color-fitted-level-3: cornflowerblue;\n",
       "\n",
       "  /* Specific color for light theme */\n",
       "  --sklearn-color-text-on-default-background: var(--sg-text-color, var(--theme-code-foreground, var(--jp-content-font-color1, black)));\n",
       "  --sklearn-color-background: var(--sg-background-color, var(--theme-background, var(--jp-layout-color0, white)));\n",
       "  --sklearn-color-border-box: var(--sg-text-color, var(--theme-code-foreground, var(--jp-content-font-color1, black)));\n",
       "  --sklearn-color-icon: #696969;\n",
       "\n",
       "  @media (prefers-color-scheme: dark) {\n",
       "    /* Redefinition of color scheme for dark theme */\n",
       "    --sklearn-color-text-on-default-background: var(--sg-text-color, var(--theme-code-foreground, var(--jp-content-font-color1, white)));\n",
       "    --sklearn-color-background: var(--sg-background-color, var(--theme-background, var(--jp-layout-color0, #111)));\n",
       "    --sklearn-color-border-box: var(--sg-text-color, var(--theme-code-foreground, var(--jp-content-font-color1, white)));\n",
       "    --sklearn-color-icon: #878787;\n",
       "  }\n",
       "}\n",
       "\n",
       "#sk-container-id-1 {\n",
       "  color: var(--sklearn-color-text);\n",
       "}\n",
       "\n",
       "#sk-container-id-1 pre {\n",
       "  padding: 0;\n",
       "}\n",
       "\n",
       "#sk-container-id-1 input.sk-hidden--visually {\n",
       "  border: 0;\n",
       "  clip: rect(1px 1px 1px 1px);\n",
       "  clip: rect(1px, 1px, 1px, 1px);\n",
       "  height: 1px;\n",
       "  margin: -1px;\n",
       "  overflow: hidden;\n",
       "  padding: 0;\n",
       "  position: absolute;\n",
       "  width: 1px;\n",
       "}\n",
       "\n",
       "#sk-container-id-1 div.sk-dashed-wrapped {\n",
       "  border: 1px dashed var(--sklearn-color-line);\n",
       "  margin: 0 0.4em 0.5em 0.4em;\n",
       "  box-sizing: border-box;\n",
       "  padding-bottom: 0.4em;\n",
       "  background-color: var(--sklearn-color-background);\n",
       "}\n",
       "\n",
       "#sk-container-id-1 div.sk-container {\n",
       "  /* jupyter's `normalize.less` sets `[hidden] { display: none; }`\n",
       "     but bootstrap.min.css set `[hidden] { display: none !important; }`\n",
       "     so we also need the `!important` here to be able to override the\n",
       "     default hidden behavior on the sphinx rendered scikit-learn.org.\n",
       "     See: https://github.com/scikit-learn/scikit-learn/issues/21755 */\n",
       "  display: inline-block !important;\n",
       "  position: relative;\n",
       "}\n",
       "\n",
       "#sk-container-id-1 div.sk-text-repr-fallback {\n",
       "  display: none;\n",
       "}\n",
       "\n",
       "div.sk-parallel-item,\n",
       "div.sk-serial,\n",
       "div.sk-item {\n",
       "  /* draw centered vertical line to link estimators */\n",
       "  background-image: linear-gradient(var(--sklearn-color-text-on-default-background), var(--sklearn-color-text-on-default-background));\n",
       "  background-size: 2px 100%;\n",
       "  background-repeat: no-repeat;\n",
       "  background-position: center center;\n",
       "}\n",
       "\n",
       "/* Parallel-specific style estimator block */\n",
       "\n",
       "#sk-container-id-1 div.sk-parallel-item::after {\n",
       "  content: \"\";\n",
       "  width: 100%;\n",
       "  border-bottom: 2px solid var(--sklearn-color-text-on-default-background);\n",
       "  flex-grow: 1;\n",
       "}\n",
       "\n",
       "#sk-container-id-1 div.sk-parallel {\n",
       "  display: flex;\n",
       "  align-items: stretch;\n",
       "  justify-content: center;\n",
       "  background-color: var(--sklearn-color-background);\n",
       "  position: relative;\n",
       "}\n",
       "\n",
       "#sk-container-id-1 div.sk-parallel-item {\n",
       "  display: flex;\n",
       "  flex-direction: column;\n",
       "}\n",
       "\n",
       "#sk-container-id-1 div.sk-parallel-item:first-child::after {\n",
       "  align-self: flex-end;\n",
       "  width: 50%;\n",
       "}\n",
       "\n",
       "#sk-container-id-1 div.sk-parallel-item:last-child::after {\n",
       "  align-self: flex-start;\n",
       "  width: 50%;\n",
       "}\n",
       "\n",
       "#sk-container-id-1 div.sk-parallel-item:only-child::after {\n",
       "  width: 0;\n",
       "}\n",
       "\n",
       "/* Serial-specific style estimator block */\n",
       "\n",
       "#sk-container-id-1 div.sk-serial {\n",
       "  display: flex;\n",
       "  flex-direction: column;\n",
       "  align-items: center;\n",
       "  background-color: var(--sklearn-color-background);\n",
       "  padding-right: 1em;\n",
       "  padding-left: 1em;\n",
       "}\n",
       "\n",
       "\n",
       "/* Toggleable style: style used for estimator/Pipeline/ColumnTransformer box that is\n",
       "clickable and can be expanded/collapsed.\n",
       "- Pipeline and ColumnTransformer use this feature and define the default style\n",
       "- Estimators will overwrite some part of the style using the `sk-estimator` class\n",
       "*/\n",
       "\n",
       "/* Pipeline and ColumnTransformer style (default) */\n",
       "\n",
       "#sk-container-id-1 div.sk-toggleable {\n",
       "  /* Default theme specific background. It is overwritten whether we have a\n",
       "  specific estimator or a Pipeline/ColumnTransformer */\n",
       "  background-color: var(--sklearn-color-background);\n",
       "}\n",
       "\n",
       "/* Toggleable label */\n",
       "#sk-container-id-1 label.sk-toggleable__label {\n",
       "  cursor: pointer;\n",
       "  display: block;\n",
       "  width: 100%;\n",
       "  margin-bottom: 0;\n",
       "  padding: 0.5em;\n",
       "  box-sizing: border-box;\n",
       "  text-align: center;\n",
       "}\n",
       "\n",
       "#sk-container-id-1 label.sk-toggleable__label-arrow:before {\n",
       "  /* Arrow on the left of the label */\n",
       "  content: \"▸\";\n",
       "  float: left;\n",
       "  margin-right: 0.25em;\n",
       "  color: var(--sklearn-color-icon);\n",
       "}\n",
       "\n",
       "#sk-container-id-1 label.sk-toggleable__label-arrow:hover:before {\n",
       "  color: var(--sklearn-color-text);\n",
       "}\n",
       "\n",
       "/* Toggleable content - dropdown */\n",
       "\n",
       "#sk-container-id-1 div.sk-toggleable__content {\n",
       "  max-height: 0;\n",
       "  max-width: 0;\n",
       "  overflow: hidden;\n",
       "  text-align: left;\n",
       "  /* unfitted */\n",
       "  background-color: var(--sklearn-color-unfitted-level-0);\n",
       "}\n",
       "\n",
       "#sk-container-id-1 div.sk-toggleable__content.fitted {\n",
       "  /* fitted */\n",
       "  background-color: var(--sklearn-color-fitted-level-0);\n",
       "}\n",
       "\n",
       "#sk-container-id-1 div.sk-toggleable__content pre {\n",
       "  margin: 0.2em;\n",
       "  border-radius: 0.25em;\n",
       "  color: var(--sklearn-color-text);\n",
       "  /* unfitted */\n",
       "  background-color: var(--sklearn-color-unfitted-level-0);\n",
       "}\n",
       "\n",
       "#sk-container-id-1 div.sk-toggleable__content.fitted pre {\n",
       "  /* unfitted */\n",
       "  background-color: var(--sklearn-color-fitted-level-0);\n",
       "}\n",
       "\n",
       "#sk-container-id-1 input.sk-toggleable__control:checked~div.sk-toggleable__content {\n",
       "  /* Expand drop-down */\n",
       "  max-height: 200px;\n",
       "  max-width: 100%;\n",
       "  overflow: auto;\n",
       "}\n",
       "\n",
       "#sk-container-id-1 input.sk-toggleable__control:checked~label.sk-toggleable__label-arrow:before {\n",
       "  content: \"▾\";\n",
       "}\n",
       "\n",
       "/* Pipeline/ColumnTransformer-specific style */\n",
       "\n",
       "#sk-container-id-1 div.sk-label input.sk-toggleable__control:checked~label.sk-toggleable__label {\n",
       "  color: var(--sklearn-color-text);\n",
       "  background-color: var(--sklearn-color-unfitted-level-2);\n",
       "}\n",
       "\n",
       "#sk-container-id-1 div.sk-label.fitted input.sk-toggleable__control:checked~label.sk-toggleable__label {\n",
       "  background-color: var(--sklearn-color-fitted-level-2);\n",
       "}\n",
       "\n",
       "/* Estimator-specific style */\n",
       "\n",
       "/* Colorize estimator box */\n",
       "#sk-container-id-1 div.sk-estimator input.sk-toggleable__control:checked~label.sk-toggleable__label {\n",
       "  /* unfitted */\n",
       "  background-color: var(--sklearn-color-unfitted-level-2);\n",
       "}\n",
       "\n",
       "#sk-container-id-1 div.sk-estimator.fitted input.sk-toggleable__control:checked~label.sk-toggleable__label {\n",
       "  /* fitted */\n",
       "  background-color: var(--sklearn-color-fitted-level-2);\n",
       "}\n",
       "\n",
       "#sk-container-id-1 div.sk-label label.sk-toggleable__label,\n",
       "#sk-container-id-1 div.sk-label label {\n",
       "  /* The background is the default theme color */\n",
       "  color: var(--sklearn-color-text-on-default-background);\n",
       "}\n",
       "\n",
       "/* On hover, darken the color of the background */\n",
       "#sk-container-id-1 div.sk-label:hover label.sk-toggleable__label {\n",
       "  color: var(--sklearn-color-text);\n",
       "  background-color: var(--sklearn-color-unfitted-level-2);\n",
       "}\n",
       "\n",
       "/* Label box, darken color on hover, fitted */\n",
       "#sk-container-id-1 div.sk-label.fitted:hover label.sk-toggleable__label.fitted {\n",
       "  color: var(--sklearn-color-text);\n",
       "  background-color: var(--sklearn-color-fitted-level-2);\n",
       "}\n",
       "\n",
       "/* Estimator label */\n",
       "\n",
       "#sk-container-id-1 div.sk-label label {\n",
       "  font-family: monospace;\n",
       "  font-weight: bold;\n",
       "  display: inline-block;\n",
       "  line-height: 1.2em;\n",
       "}\n",
       "\n",
       "#sk-container-id-1 div.sk-label-container {\n",
       "  text-align: center;\n",
       "}\n",
       "\n",
       "/* Estimator-specific */\n",
       "#sk-container-id-1 div.sk-estimator {\n",
       "  font-family: monospace;\n",
       "  border: 1px dotted var(--sklearn-color-border-box);\n",
       "  border-radius: 0.25em;\n",
       "  box-sizing: border-box;\n",
       "  margin-bottom: 0.5em;\n",
       "  /* unfitted */\n",
       "  background-color: var(--sklearn-color-unfitted-level-0);\n",
       "}\n",
       "\n",
       "#sk-container-id-1 div.sk-estimator.fitted {\n",
       "  /* fitted */\n",
       "  background-color: var(--sklearn-color-fitted-level-0);\n",
       "}\n",
       "\n",
       "/* on hover */\n",
       "#sk-container-id-1 div.sk-estimator:hover {\n",
       "  /* unfitted */\n",
       "  background-color: var(--sklearn-color-unfitted-level-2);\n",
       "}\n",
       "\n",
       "#sk-container-id-1 div.sk-estimator.fitted:hover {\n",
       "  /* fitted */\n",
       "  background-color: var(--sklearn-color-fitted-level-2);\n",
       "}\n",
       "\n",
       "/* Specification for estimator info (e.g. \"i\" and \"?\") */\n",
       "\n",
       "/* Common style for \"i\" and \"?\" */\n",
       "\n",
       ".sk-estimator-doc-link,\n",
       "a:link.sk-estimator-doc-link,\n",
       "a:visited.sk-estimator-doc-link {\n",
       "  float: right;\n",
       "  font-size: smaller;\n",
       "  line-height: 1em;\n",
       "  font-family: monospace;\n",
       "  background-color: var(--sklearn-color-background);\n",
       "  border-radius: 1em;\n",
       "  height: 1em;\n",
       "  width: 1em;\n",
       "  text-decoration: none !important;\n",
       "  margin-left: 1ex;\n",
       "  /* unfitted */\n",
       "  border: var(--sklearn-color-unfitted-level-1) 1pt solid;\n",
       "  color: var(--sklearn-color-unfitted-level-1);\n",
       "}\n",
       "\n",
       ".sk-estimator-doc-link.fitted,\n",
       "a:link.sk-estimator-doc-link.fitted,\n",
       "a:visited.sk-estimator-doc-link.fitted {\n",
       "  /* fitted */\n",
       "  border: var(--sklearn-color-fitted-level-1) 1pt solid;\n",
       "  color: var(--sklearn-color-fitted-level-1);\n",
       "}\n",
       "\n",
       "/* On hover */\n",
       "div.sk-estimator:hover .sk-estimator-doc-link:hover,\n",
       ".sk-estimator-doc-link:hover,\n",
       "div.sk-label-container:hover .sk-estimator-doc-link:hover,\n",
       ".sk-estimator-doc-link:hover {\n",
       "  /* unfitted */\n",
       "  background-color: var(--sklearn-color-unfitted-level-3);\n",
       "  color: var(--sklearn-color-background);\n",
       "  text-decoration: none;\n",
       "}\n",
       "\n",
       "div.sk-estimator.fitted:hover .sk-estimator-doc-link.fitted:hover,\n",
       ".sk-estimator-doc-link.fitted:hover,\n",
       "div.sk-label-container:hover .sk-estimator-doc-link.fitted:hover,\n",
       ".sk-estimator-doc-link.fitted:hover {\n",
       "  /* fitted */\n",
       "  background-color: var(--sklearn-color-fitted-level-3);\n",
       "  color: var(--sklearn-color-background);\n",
       "  text-decoration: none;\n",
       "}\n",
       "\n",
       "/* Span, style for the box shown on hovering the info icon */\n",
       ".sk-estimator-doc-link span {\n",
       "  display: none;\n",
       "  z-index: 9999;\n",
       "  position: relative;\n",
       "  font-weight: normal;\n",
       "  right: .2ex;\n",
       "  padding: .5ex;\n",
       "  margin: .5ex;\n",
       "  width: min-content;\n",
       "  min-width: 20ex;\n",
       "  max-width: 50ex;\n",
       "  color: var(--sklearn-color-text);\n",
       "  box-shadow: 2pt 2pt 4pt #999;\n",
       "  /* unfitted */\n",
       "  background: var(--sklearn-color-unfitted-level-0);\n",
       "  border: .5pt solid var(--sklearn-color-unfitted-level-3);\n",
       "}\n",
       "\n",
       ".sk-estimator-doc-link.fitted span {\n",
       "  /* fitted */\n",
       "  background: var(--sklearn-color-fitted-level-0);\n",
       "  border: var(--sklearn-color-fitted-level-3);\n",
       "}\n",
       "\n",
       ".sk-estimator-doc-link:hover span {\n",
       "  display: block;\n",
       "}\n",
       "\n",
       "/* \"?\"-specific style due to the `<a>` HTML tag */\n",
       "\n",
       "#sk-container-id-1 a.estimator_doc_link {\n",
       "  float: right;\n",
       "  font-size: 1rem;\n",
       "  line-height: 1em;\n",
       "  font-family: monospace;\n",
       "  background-color: var(--sklearn-color-background);\n",
       "  border-radius: 1rem;\n",
       "  height: 1rem;\n",
       "  width: 1rem;\n",
       "  text-decoration: none;\n",
       "  /* unfitted */\n",
       "  color: var(--sklearn-color-unfitted-level-1);\n",
       "  border: var(--sklearn-color-unfitted-level-1) 1pt solid;\n",
       "}\n",
       "\n",
       "#sk-container-id-1 a.estimator_doc_link.fitted {\n",
       "  /* fitted */\n",
       "  border: var(--sklearn-color-fitted-level-1) 1pt solid;\n",
       "  color: var(--sklearn-color-fitted-level-1);\n",
       "}\n",
       "\n",
       "/* On hover */\n",
       "#sk-container-id-1 a.estimator_doc_link:hover {\n",
       "  /* unfitted */\n",
       "  background-color: var(--sklearn-color-unfitted-level-3);\n",
       "  color: var(--sklearn-color-background);\n",
       "  text-decoration: none;\n",
       "}\n",
       "\n",
       "#sk-container-id-1 a.estimator_doc_link.fitted:hover {\n",
       "  /* fitted */\n",
       "  background-color: var(--sklearn-color-fitted-level-3);\n",
       "}\n",
       "</style><div id=\"sk-container-id-1\" class=\"sk-top-container\"><div class=\"sk-text-repr-fallback\"><pre>LogisticRegression(max_iter=20000)</pre><b>In a Jupyter environment, please rerun this cell to show the HTML representation or trust the notebook. <br />On GitHub, the HTML representation is unable to render, please try loading this page with nbviewer.org.</b></div><div class=\"sk-container\" hidden><div class=\"sk-item\"><div class=\"sk-estimator fitted sk-toggleable\"><input class=\"sk-toggleable__control sk-hidden--visually\" id=\"sk-estimator-id-1\" type=\"checkbox\" checked><label for=\"sk-estimator-id-1\" class=\"sk-toggleable__label fitted sk-toggleable__label-arrow fitted\">&nbsp;&nbsp;LogisticRegression<a class=\"sk-estimator-doc-link fitted\" rel=\"noreferrer\" target=\"_blank\" href=\"https://scikit-learn.org/1.5/modules/generated/sklearn.linear_model.LogisticRegression.html\">?<span>Documentation for LogisticRegression</span></a><span class=\"sk-estimator-doc-link fitted\">i<span>Fitted</span></span></label><div class=\"sk-toggleable__content fitted\"><pre>LogisticRegression(max_iter=20000)</pre></div> </div></div></div></div>"
      ],
      "text/plain": [
       "LogisticRegression(max_iter=20000)"
      ]
     },
     "execution_count": 13,
     "metadata": {},
     "output_type": "execute_result"
    }
   ],
   "source": [
    "# Fitting Data into Model for training\n",
    "model = LogisticRegression(max_iter=20000)\n",
    "model.fit(X_train, y_train)"
   ]
  },
  {
   "cell_type": "code",
   "execution_count": 14,
   "metadata": {},
   "outputs": [],
   "source": [
    "# Predictions\n",
    "y_pred = model.predict(X_test)"
   ]
  },
  {
   "cell_type": "code",
   "execution_count": 15,
   "metadata": {},
   "outputs": [
    {
     "data": {
      "text/plain": [
       "0.201"
      ]
     },
     "execution_count": 15,
     "metadata": {},
     "output_type": "execute_result"
    }
   ],
   "source": [
    "# Check for Mean Squared Error\n",
    "mse = mean_squared_error(y_test, y_pred)\n",
    "mse"
   ]
  },
  {
   "cell_type": "code",
   "execution_count": null,
   "metadata": {},
   "outputs": [
    {
     "name": "stdout",
     "output_type": "stream",
     "text": [
      "\n",
      "WELCOME TO FRAUD TRANSACTION DETECTION SYSTEM\n",
      "================================================\n",
      "RESULT: \n",
      "\t\tTransaction is Safe.\n"
     ]
    },
    {
     "name": "stderr",
     "output_type": "stream",
     "text": [
      "c:\\Users\\Syed_Sharjeel\\anaconda3\\Lib\\site-packages\\sklearn\\base.py:493: UserWarning: X does not have valid feature names, but LogisticRegression was fitted with feature names\n",
      "  warnings.warn(\n"
     ]
    }
   ],
   "source": [
    "feature_names = [\n",
    "    \"Transaction_Amount\", \"Account_Balance\", \"Location\", \"Previous_Fraudulent_Activity\",\n",
    "    \"Daily_Transaction_Count\", \"Avg_Transaction_Amount_7d\", \"Failed_Transaction_Count_7d\",\n",
    "    \"Transaction_Distance\", \"Risk_Score\",\n",
    "    \"Authentication_Method_Biometric\", \"Authentication_Method_OTP\", \"Authentication_Method_PIN\", \"Authentication_Method_Password\",\n",
    "    \"Device_Type_Laptop\", \"Device_Type_Mobile\", \"Device_Type_Tablet\",\n",
    "    \"Transaction_Type_ATM Withdrawal\", \"Transaction_Type_Bank Transfer\", \"Transaction_Type_Online\", \"Transaction_Type_POS\"\n",
    "]\n",
    "\n",
    "print(\"\\nWELCOME TO FRAUD TRANSACTION DETECTION SYSTEM\")\n",
    "print(\"================================================\")\n",
    "# User Inputs\n",
    "transaction_amount = float(input(\"Enter Transaction Amount: \"))\n",
    "account_balance = float(input(\"Enter Account Balance: \"))\n",
    "location = int(input(\"Enter Location (encoded as an integer): \"))\n",
    "previous_fraud = int(input(\"Enter Previous Fraudulent Activity (0: No, 1: Yes): \"))\n",
    "daily_transaction_count = int(input(\"Enter Daily Transaction Count: \"))\n",
    "avg_transaction_amount_7d = float(input(\"Enter Average Transaction Amount (last 7 days): \"))\n",
    "failed_transaction_count_7d = int(input(\"Enter Failed Transaction Count (last 7 days): \"))\n",
    "transaction_distance = float(input(\"Enter Transaction Distance (in km): \"))\n",
    "risk_score = float(input(\"Enter Risk Score (0-1 range): \"))\n",
    "\n",
    "# Encoded Inputs\n",
    "auth_method = input(\"Enter Authentication Method (Biometric/OTP/PIN/Password): \").lower()\n",
    "authentication_methods = {\n",
    "    \"biometric\": [1, 0, 0, 0],\n",
    "    \"otp\": [0, 1, 0, 0],\n",
    "    \"pin\": [0, 0, 1, 0],\n",
    "    \"password\": [0, 0, 0, 1]\n",
    "}\n",
    "authentication_method_biometric, authentication_method_otp, authentication_method_pin, authentication_method_password = authentication_methods.get(auth_method, [0, 0, 0, 0])\n",
    "\n",
    "device_type = input(\"Enter Device Type (Laptop/Mobile/Tablet): \").lower()\n",
    "device_types = {\n",
    "    \"laptop\": [1, 0, 0],\n",
    "    \"mobile\": [0, 1, 0],\n",
    "    \"tablet\": [0, 0, 1]\n",
    "}\n",
    "device_type_laptop, device_type_mobile, device_type_tablet = device_types.get(device_type, [0, 0, 0])\n",
    "\n",
    "transaction_type = input(\"Enter Transaction Type (ATM Withdrawal/Bank Transfer/Online/POS): \").lower()\n",
    "transaction_types = {\n",
    "    \"atm withdrawal\": [1, 0, 0, 0],\n",
    "    \"bank transfer\": [0, 1, 0, 0],\n",
    "    \"online\": [0, 0, 1, 0],\n",
    "    \"pos\": [0, 0, 0, 1]\n",
    "}\n",
    "transaction_type_atm, transaction_type_bank_transfer, transaction_type_online, transaction_type_pos = transaction_types.get(transaction_type, [0, 0, 0, 0])\n",
    "\n",
    "# Creating final input array\n",
    "X_new = np.array([transaction_amount, account_balance, location, previous_fraud, daily_transaction_count, avg_transaction_amount_7d, failed_transaction_count_7d, transaction_distance, \n",
    "    risk_score,authentication_method_biometric, authentication_method_otp, authentication_method_pin, authentication_method_password, device_type_laptop, \n",
    "    device_type_mobile, device_type_tablet, transaction_type_atm, transaction_type_bank_transfer, transaction_type_online, transaction_type_pos]).reshape(1, -1)\n",
    "\n",
    "# Convert NumPy array to Pandas DataFrame with feature names\n",
    "X_new_df = pd.DataFrame(X_new, columns=feature_names)\n",
    "\n",
    "# Prediction\n",
    "prediction = model.predict(X_new)\n",
    "\n",
    "# Final Result\n",
    "print(\"RESULT: \")\n",
    "if prediction[0] == 1:\n",
    "    print(\"\\t\\tFraud Detected!\")\n",
    "else:\n",
    "    print(\"\\t\\tTransaction is Safe.\")\n"
   ]
  },
  {
   "cell_type": "markdown",
   "metadata": {},
   "source": [
    "## Data Visualization"
   ]
  },
  {
   "cell_type": "markdown",
   "metadata": {},
   "source": [
    "#### Relation of Fraud Transaction and Location of Transaction"
   ]
  },
  {
   "cell_type": "code",
   "execution_count": 42,
   "metadata": {},
   "outputs": [
    {
     "data": {
      "image/png": "[encoded data removed]",
      "text/plain": [
       "<Figure size 1000x500 with 1 Axes>"
      ]
     },
     "metadata": {},
     "output_type": "display_data"
    }
   ],
   "source": [
    "fraud_counts_locations = pd.DataFrame({'city': ['Mumbai', 'London', 'Sydney', 'New York', 'Tokyo'],'Transactions': [3156, 3181, 3194, 3221, 3315]})\n",
    "plt.figure(figsize=(10, 5))\n",
    "sns.barplot(x=fraud_counts_locations['city'], y=fraud_counts_locations['Transactions'], palette='Reds', hue=fraud_counts_locations['city'])\n",
    "plt.xlabel('Location')\n",
    "plt.ylabel('No. of Fraud Transactions')\n",
    "plt.title('Fraud Transactions by Location')\n",
    "plt.show()"
   ]
  },
  {
   "cell_type": "markdown",
   "metadata": {},
   "source": [
    "##### Following Result can be obtained from Above Graph\n",
    "1. Fraud Transactions are mostly done from `Tokyo`. \n",
    "2. Least number of Fraud Transactions done from `Mumbai`."
   ]
  },
  {
   "cell_type": "markdown",
   "metadata": {},
   "source": [
    "#### Relation of Fraud Transaction and Transaction Type"
   ]
  },
  {
   "cell_type": "code",
   "execution_count": 43,
   "metadata": {},
   "outputs": [
    {
     "data": {
      "image/png": "[encoded data removed]",
      "text/plain": [
       "<Figure size 1000x500 with 1 Axes>"
      ]
     },
     "metadata": {},
     "output_type": "display_data"
    }
   ],
   "source": [
    "fraud_counts_tr_types = pd.DataFrame({'tr_type': ['POS', 'Bank Transfer', 'Online', 'ATM Withdrawal'],'Transactions': [3995, 3995, 4031, 4046]})\n",
    "plt.figure(figsize=(10, 5))\n",
    "sns.barplot(x=fraud_counts_tr_types['tr_type'], y=fraud_counts_tr_types['Transactions'], palette='Reds', hue=fraud_counts_tr_types['tr_type'])\n",
    "plt.xlabel('Transaction Type')\n",
    "plt.ylabel('No. of Fraud Transactions')\n",
    "plt.title('Fraud Transactions by Transaction Type')\n",
    "plt.show()"
   ]
  },
  {
   "cell_type": "markdown",
   "metadata": {},
   "source": [
    "##### Following Result can be Obtained from above Graph\n",
    "1. Most of Fraud Transactions done from `ATM Withdrawal`.\n",
    "2. Least number of Fraud Transactions done from `POS` Method.<br><br>\n",
    "##### `Result:` \n",
    "`POS` is the safest method of Transaction among the four described above"
   ]
  },
  {
   "cell_type": "markdown",
   "metadata": {},
   "source": [
    "#### Relation of Fraud Transaction and Authnetication System"
   ]
  },
  {
   "cell_type": "code",
   "execution_count": 44,
   "metadata": {},
   "outputs": [
    {
     "data": {
      "image/png": "[encoded data removed]",
      "text/plain": [
       "<Figure size 1000x500 with 1 Axes>"
      ]
     },
     "metadata": {},
     "output_type": "display_data"
    }
   ],
   "source": [
    "fraud_counts_auth = pd.DataFrame({'auth_system': ['PIN', 'OTP', 'Password', 'Biometric'], 'Transactions': [3978, 4021, 4030, 4038]})\n",
    "plt.figure(figsize=(10, 5))\n",
    "sns.barplot(x=fraud_counts_auth['auth_system'], y=fraud_counts_auth['Transactions'], palette='Reds', hue=fraud_counts_auth['auth_system'])\n",
    "plt.xlabel('Authentication System')\n",
    "plt.ylabel('No. of Fraud Transactions')\n",
    "plt.title('Fraud Transactions by Authentication System')\n",
    "plt.show()"
   ]
  },
  {
   "cell_type": "markdown",
   "metadata": {},
   "source": [
    "##### Following Result can be described from above graph:\n",
    "1. Most of Fraud Transactions proceed after `biometric` authentication System.\n",
    "2. Least Number of Fraud Transactions proceed after `PIN` authentication system.\n",
    "##### `RESULT: ` \n",
    "`PIN` Authentication System before transaction is the most safe method out of the above four shown"
   ]
  },
  {
   "cell_type": "markdown",
   "metadata": {},
   "source": [
    "## Final Result\n",
    "<div class = \"alert alert-info\">\n",
    "By Analyzing the Dataset and doing multiple tests, visualizations, Result can be conculde as:<br>\n",
    "Fraud Transactions can be reduced if we use the method of <strong>POS</strong> in our system, which will be accessible after authentication by <strong>PIN</strong>\n",
    "</div>"
   ]
  }
 ],
 "metadata": {
  "kernelspec": {
   "display_name": "base",
   "language": "python",
   "name": "python3"
  },
  "language_info": {
   "codemirror_mode": {
    "name": "ipython",
    "version": 3
   },
   "file_extension": ".py",
   "mimetype": "text/x-python",
   "name": "python",
   "nbconvert_exporter": "python",
   "pygments_lexer": "ipython3",
   "version": "3.12.7"
  }
 },
 "nbformat": 4,
 "nbformat_minor": 2
}
